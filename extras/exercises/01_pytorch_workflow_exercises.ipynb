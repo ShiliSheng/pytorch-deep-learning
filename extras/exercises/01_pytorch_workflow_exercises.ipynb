{
  "nbformat": 4,
  "nbformat_minor": 0,
  "metadata": {
    "colab": {
      "name": "01_pytorch_workflow_exercises.ipynb",
      "provenance": [],
      "toc_visible": true,
      "include_colab_link": true
    },
    "kernelspec": {
      "name": "python3",
      "display_name": "Python 3"
    },
    "language_info": {
      "name": "python"
    },
    "accelerator": "GPU"
  },
  "cells": [
    {
      "cell_type": "markdown",
      "metadata": {
        "id": "view-in-github",
        "colab_type": "text"
      },
      "source": [
        "<a href=\"https://colab.research.google.com/github/ShiliSheng/pytorch-deep-learning/blob/main/extras/exercises/01_pytorch_workflow_exercises.ipynb\" target=\"_parent\"><img src=\"https://colab.research.google.com/assets/colab-badge.svg\" alt=\"Open In Colab\"/></a>"
      ]
    },
    {
      "cell_type": "markdown",
      "source": [
        "# 01. PyTorch Workflow Exercise Template\n",
        "\n",
        "The following is a template for the PyTorch workflow exercises.\n",
        "\n",
        "It's only starter code and it's your job to fill in the blanks.\n",
        "\n",
        "Because of the flexibility of PyTorch, there may be more than one way to answer the question.\n",
        "\n",
        "Don't worry about trying to be *right* just try writing code that suffices the question.\n",
        "\n",
        "You can see one form of [solutions on GitHub](https://github.com/mrdbourke/pytorch-deep-learning/tree/main/extras/solutions) (but try the exercises below yourself first!)."
      ],
      "metadata": {
        "id": "N8LsPXZti9Sw"
      }
    },
    {
      "cell_type": "code",
      "source": [
        "# Import necessary libraries\n"
      ],
      "metadata": {
        "id": "Glu2fM4dkNlx"
      },
      "execution_count": null,
      "outputs": []
    },
    {
      "cell_type": "code",
      "source": [
        "# Setup device-agnostic code\n"
      ],
      "metadata": {
        "id": "LqKhXY26m31s"
      },
      "execution_count": null,
      "outputs": []
    },
    {
      "cell_type": "markdown",
      "source": [
        "## 1. Create a straight line dataset using the linear regression formula (`weight * X + bias`).\n",
        "  * Set `weight=0.3` and `bias=0.9` there should be at least 100 datapoints total.\n",
        "  * Split the data into 80% training, 20% testing.\n",
        "  * Plot the training and testing data so it becomes visual.\n",
        "\n",
        "Your output of the below cell should look something like:\n",
        "```\n",
        "Number of X samples: 100\n",
        "Number of y samples: 100\n",
        "First 10 X & y samples:\n",
        "X: tensor([0.0000, 0.0100, 0.0200, 0.0300, 0.0400, 0.0500, 0.0600, 0.0700, 0.0800,\n",
        "        0.0900])\n",
        "y: tensor([0.9000, 0.9030, 0.9060, 0.9090, 0.9120, 0.9150, 0.9180, 0.9210, 0.9240,\n",
        "        0.9270])\n",
        "```\n",
        "\n",
        "Of course the numbers in `X` and `y` may be different but ideally they're created using the linear regression formula."
      ],
      "metadata": {
        "id": "g7HUhxCxjeBx"
      }
    },
    {
      "cell_type": "markdown",
      "source": [],
      "metadata": {
        "id": "KbDG5MV7jhvE"
      }
    },
    {
      "cell_type": "code",
      "source": [
        "# Split the data into training and testing\n",
        "# Create the data parameters\n",
        "import torch\n",
        "import torch.nn as nn\n",
        "weight, bias = 0.3, 0.9\n",
        "\n",
        "X = torch.arange(0, 1, 0.01).unsqueeze(dim=1)\n",
        "y = X * weight + bias\n",
        "\n",
        "# Make X and y using linear regression feature\n",
        "\n",
        "\n",
        "print(f\"Number of X samples: {len(X)}\")\n",
        "print(f\"Number of y samples: {len(y)}\")\n",
        "print(f\"First 10 X & y samples:\\nX: {X[:10]}\\ny: {y[:10]}\")\n",
        "\n",
        "n_split = int(len(X) * 0.8)\n",
        "X_train = X[:n_split]\n",
        "y_train = y[:n_split]\n",
        "X_test = X[n_split:]\n",
        "y_test = y[n_split:]\n"
      ],
      "metadata": {
        "id": "GlwtT1djkmLw",
        "outputId": "e9ebaf85-9634-4434-cd48-074dd1cb44c3",
        "colab": {
          "base_uri": "https://localhost:8080/"
        }
      },
      "execution_count": 15,
      "outputs": [
        {
          "output_type": "stream",
          "name": "stdout",
          "text": [
            "Number of X samples: 100\n",
            "Number of y samples: 100\n",
            "First 10 X & y samples:\n",
            "X: tensor([[0.0000],\n",
            "        [0.0100],\n",
            "        [0.0200],\n",
            "        [0.0300],\n",
            "        [0.0400],\n",
            "        [0.0500],\n",
            "        [0.0600],\n",
            "        [0.0700],\n",
            "        [0.0800],\n",
            "        [0.0900]])\n",
            "y: tensor([[0.9000],\n",
            "        [0.9030],\n",
            "        [0.9060],\n",
            "        [0.9090],\n",
            "        [0.9120],\n",
            "        [0.9150],\n",
            "        [0.9180],\n",
            "        [0.9210],\n",
            "        [0.9240],\n",
            "        [0.9270]])\n"
          ]
        }
      ]
    },
    {
      "cell_type": "code",
      "source": [
        "# Plot the training and testing data\n"
      ],
      "metadata": {
        "id": "29iQZFNhlYJ-"
      },
      "execution_count": null,
      "outputs": []
    },
    {
      "cell_type": "markdown",
      "source": [
        "## 2. Build a PyTorch model by subclassing `nn.Module`.\n",
        "  * Inside should be a randomly initialized `nn.Parameter()` with `requires_grad=True`, one for `weights` and one for `bias`.\n",
        "  * Implement the `forward()` method to compute the linear regression function you used to create the dataset in 1.\n",
        "  * Once you've constructed the model, make an instance of it and check its `state_dict()`.\n",
        "  * **Note:** If you'd like to use `nn.Linear()` instead of `nn.Parameter()` you can."
      ],
      "metadata": {
        "id": "ImZoe3v8jif8"
      }
    },
    {
      "cell_type": "code",
      "source": [
        "# Create PyTorch linear regression model by subclassing nn.Module\n",
        "import torch.nn as nn\n",
        "class LR(nn.Module):\n",
        "  def __init__(self):\n",
        "    super().__init__()\n",
        "    self.linear_layer = nn.Linear(1, 1)\n",
        "  def forward(self, x):\n",
        "    return self.linear_layer(x)\n",
        "\n",
        "class LR2(nn.Module):\n",
        "  def __init__(self):\n",
        "    super().__init__()\n",
        "    self.weights = nn.Parameter(data = torch.rand(1, requires_grad=True, dtype=torch.float))\n",
        "    self.bias = nn.Parameter(data = torch.rand(1, requires_grad=True, dtype=torch.float))\n",
        "  def forward(self, x):\n",
        "    return self.weights * x + bias\n",
        "m1 = LR()\n",
        "m2 = LR2()\n",
        "m1, m1.state_dict(), m2, m2.state_dict()"
      ],
      "metadata": {
        "id": "qzd__Y5rjtB8",
        "outputId": "bb45140b-b001-4958-e727-74ffda1a357d",
        "colab": {
          "base_uri": "https://localhost:8080/"
        }
      },
      "execution_count": 10,
      "outputs": [
        {
          "output_type": "execute_result",
          "data": {
            "text/plain": [
              "(LR(\n",
              "   (linear_layer): Linear(in_features=1, out_features=1, bias=True)\n",
              " ),\n",
              " OrderedDict([('linear_layer.weight', tensor([[0.7170]])),\n",
              "              ('linear_layer.bias', tensor([-0.0178]))]),\n",
              " LR2(),\n",
              " OrderedDict([('weights', tensor([0.0530])), ('bias', tensor([0.6300]))]))"
            ]
          },
          "metadata": {},
          "execution_count": 10
        }
      ]
    },
    {
      "cell_type": "code",
      "source": [
        "# Instantiate the model and put it to the target device\n",
        "device = 'cuda' if torch.cuda.is_available() else 'cpu'\n",
        "m1.to(device)"
      ],
      "metadata": {
        "id": "5LdcDnmOmyQ2",
        "outputId": "78f211cc-59ba-470c-937e-8f5cfc57aa7e",
        "colab": {
          "base_uri": "https://localhost:8080/"
        }
      },
      "execution_count": 11,
      "outputs": [
        {
          "output_type": "execute_result",
          "data": {
            "text/plain": [
              "LR(\n",
              "  (linear_layer): Linear(in_features=1, out_features=1, bias=True)\n",
              ")"
            ]
          },
          "metadata": {},
          "execution_count": 11
        }
      ]
    },
    {
      "cell_type": "markdown",
      "source": [
        "## 3. Create a loss function and optimizer using `nn.L1Loss()` and `torch.optim.SGD(params, lr)` respectively.\n",
        "  * Set the learning rate of the optimizer to be 0.01 and the parameters to optimize should be the model parameters from the model you created in 2.\n",
        "  * Write a training loop to perform the appropriate training steps for 300 epochs.\n",
        "  * The training loop should test the model on the test dataset every 20 epochs."
      ],
      "metadata": {
        "id": "G6nYOrJhjtfu"
      }
    },
    {
      "cell_type": "code",
      "source": [
        "# Create the loss function and optimizer\n",
        "loss_func = nn.L1Loss()\n",
        "optimizer = torch.optim.SGD(params = m1.parameters(), lr = 0.1)"
      ],
      "metadata": {
        "id": "ltvoZ-FWjv1j"
      },
      "execution_count": 14,
      "outputs": []
    },
    {
      "cell_type": "code",
      "source": [
        "# Training loop\n",
        "# Train model for 300 epochs\n",
        "epochs = 300\n",
        "# Send data to target device\n",
        "X_train = X_train.cpu()\n",
        "X_test = X_test.cpu()\n",
        "y_train = y_train.cpu()\n",
        "y_test = y_test.cpu()\n",
        "for epoch in range(epochs):\n",
        "  ### Training\n",
        "  m1.train()\n",
        "  y_pred = m1(X_train)\n",
        "  loss = loss_func(y_pred, y_train)\n",
        "  optimizer.zero_grad()\n",
        "  loss.backward()\n",
        "  optimizer.step()\n",
        "  if epoch % 20 == 0:\n",
        "    m1.eval()\n",
        "    with torch.inference_mode():\n",
        "      y_pred = m1(y_test)\n",
        "      test_loss = loss_func(y_pred, y_test)\n",
        "      print(f\"Epoch: {epoch} | Train loss: {loss:.3f} | Test loss: {test_loss:.3f}\")"
      ],
      "metadata": {
        "id": "xpE83NvNnkdV",
        "outputId": "1753d97d-98fd-4a91-f9e6-c4c039ddfa18",
        "colab": {
          "base_uri": "https://localhost:8080/"
        }
      },
      "execution_count": 17,
      "outputs": [
        {
          "output_type": "stream",
          "name": "stdout",
          "text": [
            "Epoch: 0 | Train loss: 0.753 | Test loss: 0.202\n",
            "Epoch: 20 | Train loss: 0.085 | Test loss: 0.385\n",
            "Epoch: 40 | Train loss: 0.019 | Test loss: 0.173\n",
            "Epoch: 60 | Train loss: 0.077 | Test loss: 0.183\n",
            "Epoch: 80 | Train loss: 0.077 | Test loss: 0.183\n",
            "Epoch: 100 | Train loss: 0.077 | Test loss: 0.183\n",
            "Epoch: 120 | Train loss: 0.077 | Test loss: 0.183\n",
            "Epoch: 140 | Train loss: 0.077 | Test loss: 0.183\n",
            "Epoch: 160 | Train loss: 0.077 | Test loss: 0.183\n",
            "Epoch: 180 | Train loss: 0.077 | Test loss: 0.183\n",
            "Epoch: 200 | Train loss: 0.077 | Test loss: 0.183\n",
            "Epoch: 220 | Train loss: 0.077 | Test loss: 0.183\n",
            "Epoch: 240 | Train loss: 0.077 | Test loss: 0.183\n",
            "Epoch: 260 | Train loss: 0.077 | Test loss: 0.183\n",
            "Epoch: 280 | Train loss: 0.077 | Test loss: 0.183\n"
          ]
        }
      ]
    },
    {
      "cell_type": "markdown",
      "source": [
        "## 4. Make predictions with the trained model on the test data.\n",
        "  * Visualize these predictions against the original training and testing data (**note:** you may need to make sure the predictions are *not* on the GPU if you want to use non-CUDA-enabled libraries such as matplotlib to plot)."
      ],
      "metadata": {
        "id": "x4j4TM18jwa7"
      }
    },
    {
      "cell_type": "code",
      "source": [
        "# Make predictions with the model\n"
      ],
      "metadata": {
        "id": "bbMPK5Qjjyx_"
      },
      "execution_count": null,
      "outputs": []
    },
    {
      "cell_type": "code",
      "source": [
        "# Plot the predictions (these may need to be on a specific device)\n"
      ],
      "metadata": {
        "id": "K3BdmQaDpFo8"
      },
      "execution_count": null,
      "outputs": []
    },
    {
      "cell_type": "markdown",
      "source": [
        "## 5. Save your trained model's `state_dict()` to file.\n",
        "  * Create a new instance of your model class you made in 2. and load in the `state_dict()` you just saved to it.\n",
        "  * Perform predictions on your test data with the loaded model and confirm they match the original model predictions from 4."
      ],
      "metadata": {
        "id": "s2OnlMWKjzX8"
      }
    },
    {
      "cell_type": "code",
      "source": [
        "from pathlib import Path\n",
        "\n",
        "# 1. Create models directory\n",
        "model_path = Path(\"Models\")\n",
        "model_path.mkdir(parents = True, exist_ok = True)\n",
        "model_name = \"lr_m1\"\n",
        "model_file = model_path / model_name\n",
        "\n",
        "# 2. Create model save path\n",
        "\n",
        "# 3. Save the model state dict\n",
        "torch.save(obj = m1.state_dict(), f = model_file)"
      ],
      "metadata": {
        "id": "hgxhgD14qr-i"
      },
      "execution_count": 19,
      "outputs": []
    },
    {
      "cell_type": "code",
      "source": [
        "# Create new instance of model and load saved state dict (make sure to put it on the target device)\n",
        "model_load = LR()\n",
        "model_load.load_state_dict(torch.load(model_file))"
      ],
      "metadata": {
        "id": "P9vTgiLRrJ7T",
        "outputId": "b9c5a6eb-aea4-4c80-8c05-af7b5ea042d3",
        "colab": {
          "base_uri": "https://localhost:8080/"
        }
      },
      "execution_count": 20,
      "outputs": [
        {
          "output_type": "execute_result",
          "data": {
            "text/plain": [
              "<All keys matched successfully>"
            ]
          },
          "metadata": {},
          "execution_count": 20
        }
      ]
    },
    {
      "cell_type": "code",
      "source": [
        "# Make predictions with loaded model and compare them to the previous\n"
      ],
      "metadata": {
        "id": "8UGX3VebrVtI"
      },
      "execution_count": null,
      "outputs": []
    }
  ]
}